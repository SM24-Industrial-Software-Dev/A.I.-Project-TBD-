{
  "nbformat": 4,
  "nbformat_minor": 0,
  "metadata": {
    "colab": {
      "provenance": [],
      "authorship_tag": "ABX9TyMCdGQms7vsF/GRyxyu8/fr",
      "include_colab_link": true
    },
    "kernelspec": {
      "name": "python3",
      "display_name": "Python 3"
    },
    "language_info": {
      "name": "python"
    }
  },
  "cells": [
    {
      "cell_type": "markdown",
      "metadata": {
        "id": "view-in-github",
        "colab_type": "text"
      },
      "source": [
        "<a href=\"https://colab.research.google.com/github/SM24-Industrial-Software-Dev/ML-forecasting-NOx-levels/blob/ES-8-CBSA-Ingester/CBSA_Shapefile_Ingester.ipynb\" target=\"_parent\"><img src=\"https://colab.research.google.com/assets/colab-badge.svg\" alt=\"Open In Colab\"/></a>"
      ]
    },
    {
      "source": [
        "# Imports and Installations\n",
        "from google.colab import auth\n",
        "import google.auth\n",
        "import ee\n",
        "import requests\n",
        "import zipfile\n",
        "import io\n",
        "import geemap\n",
        "\n",
        "!pip install pycrs"
      ],
      "cell_type": "code",
      "metadata": {
        "colab": {
          "base_uri": "https://localhost:8080/",
          "height": 191
        },
        "id": "qBsRAklW2ghB",
        "outputId": "2a97806e-e903-4cd6-8036-b89f84750201",
        "collapsed": true
      },
      "execution_count": null,
      "outputs": [
        {
          "output_type": "stream",
          "name": "stdout",
          "text": [
            "Collecting pycrs\n",
            "  Downloading PyCRS-1.0.2.tar.gz (36 kB)\n",
            "  Preparing metadata (setup.py) ... \u001b[?25l\u001b[?25hdone\n",
            "Building wheels for collected packages: pycrs\n",
            "  Building wheel for pycrs (setup.py) ... \u001b[?25l\u001b[?25hdone\n",
            "  Created wheel for pycrs: filename=PyCRS-1.0.2-py3-none-any.whl size=32687 sha256=0ac2da979d7fe020f0913ba8560fef1350e5c765b91c51e1324524715497d0ec\n",
            "  Stored in directory: /root/.cache/pip/wheels/47/1d/70/7a5bdf33347e7c75e95b06b1fa38f076a59a9506653cc24aff\n",
            "Successfully built pycrs\n",
            "Installing collected packages: pycrs\n",
            "Successfully installed pycrs-1.0.2\n"
          ]
        }
      ]
    },
    {
      "cell_type": "code",
      "source": [
        "# Authenticate GEE\n",
        "auth.authenticate_user()\n",
        "credentials, _ = google.auth.default()\n",
        "ee.Initialize(credentials, project='yu-summer-2024', opt_url='https://earthengine-highvolume.googleapis.com')"
      ],
      "metadata": {
        "colab": {
          "base_uri": "https://localhost:8080/",
          "height": 17
        },
        "id": "xG3klrPR5i0W",
        "outputId": "ec3c6560-983d-4484-b4f0-dc41fc1fa5ca"
      },
      "execution_count": null,
      "outputs": [
        {
          "output_type": "display_data",
          "data": {
            "text/plain": [
              "<IPython.core.display.HTML object>"
            ],
            "text/html": [
              "\n",
              "            <style>\n",
              "                .geemap-dark {\n",
              "                    --jp-widgets-color: white;\n",
              "                    --jp-widgets-label-color: white;\n",
              "                    --jp-ui-font-color1: white;\n",
              "                    --jp-layout-color2: #454545;\n",
              "                    background-color: #383838;\n",
              "                }\n",
              "\n",
              "                .geemap-dark .jupyter-button {\n",
              "                    --jp-layout-color3: #383838;\n",
              "                }\n",
              "\n",
              "                .geemap-colab {\n",
              "                    background-color: var(--colab-primary-surface-color, white);\n",
              "                }\n",
              "\n",
              "                .geemap-colab .jupyter-button {\n",
              "                    --jp-layout-color3: var(--colab-primary-surface-color, white);\n",
              "                }\n",
              "            </style>\n",
              "            "
            ]
          },
          "metadata": {}
        }
      ]
    },
    {
      "source": [
        "# The method to retrieve a CBSA shapefile from the Census Bureau website and ingest it as a FeatureCollection\n",
        "def ingest_cbsa_shapefile(year=2023, resolution='5m'):\n",
        "  \"\"\"\n",
        "  Downloads a CBSA shapefile from the US Census Bureau, extracts it,\n",
        "  and uploads it to Google Earth Engine (GEE).\n",
        "\n",
        "  Args:\n",
        "      year (int): The year of the shapefile (2023 by default, can range from 2014-2023)\n",
        "      resolution (str): The resolution of the shapefile (5m by default, can be 500k, 5m, or 20m)\n",
        "\n",
        "  Returns:\n",
        "      The uploaded shapefile\n",
        "  \"\"\"\n",
        "  # Validate the year and resolution inputs, setting to default if invalid\n",
        "  if year < 2014:\n",
        "      year = 2014\n",
        "  elif year > 2023:\n",
        "      year = 2023\n",
        "  if resolution not in ['5m', '500k', '20m']:\n",
        "      resolution = '5m'\n",
        "\n",
        "  filename = f'cb_{year}_us_cbsa_{resolution}'\n",
        "  # Download the shapefile\n",
        "  response = requests.get(f'https://www2.census.gov/geo/tiger/GENZ{year}/shp/{filename}.zip')\n",
        "\n",
        "  # Extract the shapefile\n",
        "  with zipfile.ZipFile(io.BytesIO(response.content)) as zip_ref:\n",
        "      zip_ref.extractall()\n",
        "\n",
        "  # Upload the shapefile to GEE by reading it with Latin-1 encoding, which is commonly used for shapefiles\n",
        "  return geemap.shp_to_ee(f'{filename}.shp', encoding='latin1')\n",
        "\n",
        "# The actual retrieval\n",
        "cbsa_geometries = ingest_cbsa_shapefile()"
      ],
      "cell_type": "code",
      "metadata": {
        "id": "T46X0Tbsyj0i",
        "collapsed": true,
        "colab": {
          "base_uri": "https://localhost:8080/",
          "height": 17
        },
        "outputId": "bd0eb00d-32d9-44c7-e266-31f09a96a25e"
      },
      "execution_count": null,
      "outputs": [
        {
          "output_type": "display_data",
          "data": {
            "text/plain": [
              "<IPython.core.display.HTML object>"
            ],
            "text/html": [
              "\n",
              "            <style>\n",
              "                .geemap-dark {\n",
              "                    --jp-widgets-color: white;\n",
              "                    --jp-widgets-label-color: white;\n",
              "                    --jp-ui-font-color1: white;\n",
              "                    --jp-layout-color2: #454545;\n",
              "                    background-color: #383838;\n",
              "                }\n",
              "\n",
              "                .geemap-dark .jupyter-button {\n",
              "                    --jp-layout-color3: #383838;\n",
              "                }\n",
              "\n",
              "                .geemap-colab {\n",
              "                    background-color: var(--colab-primary-surface-color, white);\n",
              "                }\n",
              "\n",
              "                .geemap-colab .jupyter-button {\n",
              "                    --jp-layout-color3: var(--colab-primary-surface-color, white);\n",
              "                }\n",
              "            </style>\n",
              "            "
            ]
          },
          "metadata": {}
        }
      ]
    }
  ]
}